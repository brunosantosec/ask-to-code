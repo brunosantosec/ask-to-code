{
  "nbformat": 4,
  "nbformat_minor": 0,
  "metadata": {
    "colab": {
      "provenance": [],
      "toc_visible": true
    },
    "kernelspec": {
      "name": "python3",
      "display_name": "Python 3"
    },
    "language_info": {
      "name": "python"
    }
  },
  "cells": [
    {
      "cell_type": "code",
      "source": [
        "# Instalação da library\n",
        "!pip install google-generativeai"
      ],
      "metadata": {
        "id": "-JGI_zOdiPf6"
      },
      "execution_count": null,
      "outputs": []
    },
    {
      "cell_type": "markdown",
      "source": [
        "# Ask to Code\n",
        "\n",
        "## Introdução\n",
        "\n",
        "Este projeto demonstra a criação de um chatbot que funciona como documentação de um repositório no Github, utilizando a API Gemini.\n",
        "\n"
      ],
      "metadata": {
        "id": "jhqgUcGokcuz"
      }
    },
    {
      "cell_type": "markdown",
      "source": [
        "# Bibliotecas utilizadas\n",
        "\n",
        "- genai: Gemini API\n",
        "- userdata: Acessar variáveis de ambiente (secrets) no Google Colab\n",
        "- requests: Acessar endpoints\n",
        "- time: Biblioteca de temporização de código\n",
        "- re: Detecção de padrões em linguagem regex"
      ],
      "metadata": {
        "id": "3uziISNilL6z"
      }
    },
    {
      "cell_type": "code",
      "source": [
        "import google.generativeai as genai\n",
        "from google.colab import userdata\n",
        "import requests\n",
        "import time\n",
        "import re"
      ],
      "metadata": {
        "id": "3iOwlJSfk-0S"
      },
      "execution_count": 9,
      "outputs": []
    },
    {
      "cell_type": "markdown",
      "source": [
        "# Configurações do Modelo\n",
        "\n",
        "Adicione a Gemini API Key às variáveis secretas do Google Colab ou substitua \"userdata.get('GEMINI_API_KEY')\" pela string completa.\n",
        "\n"
      ],
      "metadata": {
        "id": "_MYMfeQSlGSm"
      }
    },
    {
      "cell_type": "code",
      "source": [
        "genai.configure(api_key=userdata.get('GEMINI_API_KEY'))\n",
        "\n",
        "generation_config = {\n",
        "    \"temperature\": 0.9,\n",
        "    \"top_p\": 1,\n",
        "    \"top_k\": 0,\n",
        "    \"max_output_tokens\": 8192,\n",
        "}\n",
        "\n",
        "safety_settings = [\n",
        "    {\n",
        "        \"category\": \"HARM_CATEGORY_HARASSMENT\",\n",
        "        \"threshold\": \"BLOCK_MEDIUM_AND_ABOVE\"\n",
        "    },\n",
        "    {\n",
        "        \"category\": \"HARM_CATEGORY_HATE_SPEECH\",\n",
        "        \"threshold\": \"BLOCK_MEDIUM_AND_ABOVE\"\n",
        "    },\n",
        "    {\n",
        "        \"category\": \"HARM_CATEGORY_SEXUALLY_EXPLICIT\",\n",
        "        \"threshold\": \"BLOCK_MEDIUM_AND_ABOVE\"\n",
        "    },\n",
        "    {\n",
        "        \"category\": \"HARM_CATEGORY_DANGEROUS_CONTENT\",\n",
        "        \"threshold\": \"BLOCK_MEDIUM_AND_ABOVE\"\n",
        "    },\n",
        "]\n",
        "\n",
        "model = genai.GenerativeModel(\n",
        "    model_name=\"gemini-1.5-pro-latest\",\n",
        "    generation_config=generation_config,\n",
        "    safety_settings=safety_settings\n",
        ")"
      ],
      "metadata": {
        "id": "53EHEnMwlBrk"
      },
      "execution_count": 10,
      "outputs": []
    },
    {
      "cell_type": "markdown",
      "source": [
        "# Aquisição de dados do repositório\n",
        "\n",
        "Definição dos métodos utilizados para adquirir informações do repositório:\n",
        "- Nome de usuário do proprietário\n",
        "- Nome do repositório\n",
        "- Arquivos e diretórios"
      ],
      "metadata": {
        "id": "dAhmZwwpl0iP"
      }
    },
    {
      "cell_type": "code",
      "source": [
        "not_allowed_files = ['.jpg', '.jpeg', '.png', '.gif', '.mp4', '.avi', '.mov', '.pdf', '.tar.gz', '.zip', '.rar']\n",
        "\n",
        "def get_repo_info(repo_url):\n",
        "  pattern = r\"https://github.com/([^/]+)/([^/]+)(.*)\"\n",
        "  match = re.match(pattern, repo_url)\n",
        "  if match:\n",
        "    username = match.group(1)\n",
        "    repo_name = match.group(2)\n",
        "    return repo_name, username\n",
        "  else:\n",
        "    raise Exception('Github Link without owner name and/or repository name, please enter the correct one, e.g. https://github.com/{owner}/{repository}')\n",
        "\n",
        "def get_content(url_repo):\n",
        "    content_list = []\n",
        "\n",
        "    def process_content(content):\n",
        "        if content['type'] == 'file':\n",
        "            file_name = content['name']\n",
        "            if not any(file_name.endswith(filetype) for filetype in not_allowed_files):\n",
        "                file_url = content['download_url']\n",
        "                file_content = requests.get(file_url).text\n",
        "                content_list.append({'role': 'user', 'parts': [file_content]})\n",
        "                content_list.append({'role': 'user', 'parts': [file_url]})\n",
        "\n",
        "        elif content['type'] == 'dir':\n",
        "            folder_url = content['url']\n",
        "            folder_response = requests.get(folder_url)\n",
        "            if folder_response.status_code == 200:\n",
        "                folder_contents = folder_response.json()\n",
        "                for item in folder_contents:\n",
        "                    process_content(item)\n",
        "\n",
        "    response = requests.get(url_repo)\n",
        "    if response.status_code == 200:\n",
        "        contents = response.json()\n",
        "\n",
        "        for content in contents:\n",
        "            time.sleep(0.1)\n",
        "            process_content(content)\n",
        "    else:\n",
        "        raise Exception(\"Error accessing the repository.\")\n",
        "\n",
        "    return content_list"
      ],
      "metadata": {
        "id": "d8ItWscVl3aO"
      },
      "execution_count": 11,
      "outputs": []
    },
    {
      "cell_type": "markdown",
      "source": [
        "# Utilização\n",
        "\n",
        "## Repositório\n",
        "\n",
        "Informe o link do github referente ao repositório a ser utilizado na criação do chatbot\n",
        "\n",
        "## Prompts\n",
        "\n",
        "Faça perguntas em linguagem natural em qualquer língua desejada para que o Gemini responda sobre informações com relação ao repositório informado\n",
        "\n",
        "Envie 'end' para finalizar a conversa"
      ],
      "metadata": {
        "id": "jn3bjEedmT-i"
      }
    },
    {
      "cell_type": "code",
      "execution_count": 17,
      "metadata": {
        "colab": {
          "base_uri": "https://localhost:8080/"
        },
        "id": "ete5geXFi6ZK",
        "outputId": "ad3392f0-54aa-4334-b1d7-5b6e3e97a819"
      },
      "outputs": [
        {
          "output_type": "stream",
          "name": "stdout",
          "text": [
            "Enter the repository name: https://github.com/pagarme/node-boleto\n",
            "Enter your message: end\n",
            "Chat ended.\n"
          ]
        }
      ],
      "source": [
        "repo_url = input(\"Enter the repository name: \")\n",
        "repo_name, owner = get_repo_info(repo_url)\n",
        "\n",
        "url_repository = f'https://api.github.com/repos/{owner}/{repo_name}/contents'\n",
        "contents = get_content(url_repository)\n",
        "\n",
        "conversation = model.start_chat(history=contents)\n",
        "\n",
        "while True:\n",
        "    prompt = input(\"Enter your message: \")\n",
        "\n",
        "    if prompt.lower() == \"end\":\n",
        "        break\n",
        "\n",
        "    conversation.send_message(prompt)\n",
        "    print(conversation.last.text)\n",
        "\n",
        "print(\"Chat ended.\")\n"
      ]
    }
  ]
}